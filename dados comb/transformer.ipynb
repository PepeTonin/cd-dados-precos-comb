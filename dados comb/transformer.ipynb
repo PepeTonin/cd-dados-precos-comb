{
 "cells": [
  {
   "cell_type": "code",
   "execution_count": 1,
   "metadata": {},
   "outputs": [],
   "source": [
    "import pandas as pd"
   ]
  },
  {
   "cell_type": "code",
   "execution_count": null,
   "metadata": {},
   "outputs": [],
   "source": [
    "\"\"\"\n",
    "\trecebe o DataFrame e o caminho para salvar o csv\n",
    "\"\"\"\n",
    "\n",
    "\n",
    "def salvar_dados(df, caminho_csv):\n",
    "    df.to_csv(caminho_csv, sep=\";\", index=False)\n"
   ]
  },
  {
   "cell_type": "markdown",
   "metadata": {},
   "source": [
    "### Concatenando todas as baeses em uma só, já filtrando apenas os itens que serão utilizados"
   ]
  },
  {
   "cell_type": "code",
   "execution_count": 67,
   "metadata": {},
   "outputs": [],
   "source": [
    "\"\"\"\n",
    "\trecebe o caminho de um arquivo csv\n",
    "\tmantém apenas as colunas e os produtos que serão utilizados\n",
    "\tretorna o DataFrame pronto\n",
    "\"\"\"\n",
    "\n",
    "\n",
    "def carregar_e_transformar_csv(csv_path):\n",
    "    df = pd.read_csv(csv_path, sep=\";\")\n",
    "\n",
    "    colunas_utilizadas = [\n",
    "        \"Estado - Sigla\",\n",
    "        \"Municipio\",\n",
    "        \"Produto\",\n",
    "        \"Data da Coleta\",\n",
    "        \"Valor de Venda\",\n",
    "    ]\n",
    "    df = df[colunas_utilizadas]\n",
    "\n",
    "    produtos_desejados = [\"GASOLINA\", \"ETANOL\", \"DIESEL\", \"DIESEL S10\"]\n",
    "    df = df[df[\"Produto\"].isin(produtos_desejados)]\n",
    "\n",
    "    return df\n",
    "\n",
    "\n",
    "def carregar_e_transformar_csv_encoding_latin1(csv_path):\n",
    "    df = pd.read_csv(csv_path, sep=\";\", encoding=\"latin-1\")\n",
    "\n",
    "    colunas_utilizadas = [\n",
    "        \"Estado - Sigla\",\n",
    "        \"Municipio\",\n",
    "        \"Produto\",\n",
    "        \"Data da Coleta\",\n",
    "        \"Valor de Venda\",\n",
    "    ]\n",
    "    df = df[colunas_utilizadas]\n",
    "\n",
    "    produtos_desejados = [\"GASOLINA\", \"ETANOL\", \"DIESEL\", \"DIESEL S10\"]\n",
    "    df = df[df[\"Produto\"].isin(produtos_desejados)]\n",
    "\n",
    "    return df\n",
    "\n",
    "\n",
    "def carregar_e_transformar_csv_dtype_unicode(csv_path):\n",
    "    df = pd.read_csv(csv_path, sep=\";\", dtype=\"unicode\")\n",
    "\n",
    "    colunas_utilizadas = [\n",
    "        \"Estado - Sigla\",\n",
    "        \"Municipio\",\n",
    "        \"Produto\",\n",
    "        \"Data da Coleta\",\n",
    "        \"Valor de Venda\",\n",
    "    ]\n",
    "    df = df[colunas_utilizadas]\n",
    "\n",
    "    produtos_desejados = [\"GASOLINA\", \"ETANOL\", \"DIESEL\", \"DIESEL S10\"]\n",
    "    df = df[df[\"Produto\"].isin(produtos_desejados)]\n",
    "\n",
    "    return df"
   ]
  },
  {
   "cell_type": "code",
   "execution_count": 69,
   "metadata": {},
   "outputs": [],
   "source": [
    "\"\"\"\n",
    "\tgera o DataFrame com todos os arquivos\n",
    "    em seguida salva o DataFrame num novo arquivo csv\n",
    "\"\"\"\n",
    "\n",
    "df_list = []\n",
    "\n",
    "for ano in [\"13\", \"14\", \"15\", \"16\", \"17\", \"18\", \"19\", \"22\", \"23\"]:\n",
    "    for semestre in [\"01\", \"02\"]:\n",
    "        df_list.append(carregar_e_transformar_csv(f\"ca-20{ano}-{semestre}.csv\"))\n",
    "        \n",
    "df_list.append(carregar_e_transformar_csv(\"ca-2020-01.csv\"))\n",
    "df_list.append(carregar_e_transformar_csv_dtype_unicode(\"ca-2020-02.csv\"))\n",
    "df_list.append(carregar_e_transformar_csv(\"ca-2021-01.csv\"))\n",
    "df_list.append(carregar_e_transformar_csv_encoding_latin1(\"ca-2021-02.csv\"))       \n",
    "df_list.append(carregar_e_transformar_csv(\"ca-2024-01.csv\"))\n",
    "\n",
    "df = pd.concat(df_list, ignore_index=True)\n",
    "salvar_dados(df, \"precos-combustiveis-2013-2024.csv\")"
   ]
  },
  {
   "cell_type": "markdown",
   "metadata": {},
   "source": [
    "### A partir da base gerada anteriormente, gera a base com as médias de valores mensais de todo o Brasil"
   ]
  },
  {
   "cell_type": "code",
   "execution_count": 18,
   "metadata": {},
   "outputs": [],
   "source": [
    "\"\"\"\n",
    "\trecebe o DataFrame geral original\n",
    "\tcalcula a media de cada mes, gera um novo DataFrame apenas com as colunas [ano, mes, produto, valor de venda]\n",
    "    salva o DataFrame num novo arquivo csv\n",
    "\"\"\"\n",
    "\n",
    "def gerar_df_brasil(df):\n",
    "    df['Data da Coleta'] = pd.to_datetime(df['Data da Coleta'], format='%d/%m/%Y')\n",
    "\n",
    "    df['Mes'] = df['Data da Coleta'].dt.month\n",
    "    df['Ano'] = df['Data da Coleta'].dt.year\n",
    "    \n",
    "    df['Valor de Venda'] = df['Valor de Venda'].str.replace(',', '.').astype(float)\n",
    "    \n",
    "    media_brasil = df.groupby(['Ano', 'Mes', 'Produto'], as_index=False)['Valor de Venda'].mean()\n",
    "    \n",
    "    salvar_dados(media_brasil, 'media_brasil_mes_a_mes.csv')\n",
    "    \n",
    "    return media_brasil"
   ]
  },
  {
   "cell_type": "code",
   "execution_count": 19,
   "metadata": {},
   "outputs": [],
   "source": [
    "df = pd.read_csv(\"precos-combustiveis-2013-2024.csv\", sep=\";\")\n",
    "media_brasil = gerar_df_brasil(df)"
   ]
  },
  {
   "cell_type": "markdown",
   "metadata": {},
   "source": [
    "### A partir da base gerada originalmente, com todos os valores, gera as bases com as médias de valores mensais para cada estado"
   ]
  },
  {
   "cell_type": "code",
   "execution_count": null,
   "metadata": {},
   "outputs": [],
   "source": [
    "\"\"\"\n",
    "\trecebe o DataFrame geral original\n",
    "\tcalcula a media de cada mes, para cada um dos estados brasileiros, gera um novo DataFrame apenas com as colunas [ano, mes, produto, valor de venda]\n",
    "    salva o DataFrame num novo arquivo csv\n",
    "\"\"\"\n",
    "\n",
    "\n",
    "def gerar_df_estados(df):\n",
    "    estados = df[\"Estado - Sigla\"].unique()\n",
    "\n",
    "    for estado in estados:\n",
    "        df_estado = df[df[\"Estado - Sigla\"] == estado]\n",
    "\n",
    "        df_estado[\"Data da Coleta\"] = pd.to_datetime(\n",
    "            df_estado[\"Data da Coleta\"], format=\"%d/%m/%Y\"\n",
    "        )\n",
    "\n",
    "        df_estado[\"Mes\"] = df_estado[\"Data da Coleta\"].dt.month\n",
    "        df_estado[\"Ano\"] = df_estado[\"Data da Coleta\"].dt.year\n",
    "\n",
    "        df_estado[\"Valor de Venda\"] = (\n",
    "            df_estado[\"Valor de Venda\"].str.replace(\",\", \".\").astype(float)\n",
    "        )\n",
    "\n",
    "        media_estado = df_estado.groupby([\"Ano\", \"Mes\", \"Produto\"], as_index=False)[\n",
    "            \"Valor de Venda\"\n",
    "        ].mean()\n",
    "\n",
    "        nome_arquivo = f\"media_{estado}_mes_a_mes.csv\"\n",
    "\n",
    "        salvar_dados(media_estado, nome_arquivo)"
   ]
  },
  {
   "cell_type": "code",
   "execution_count": null,
   "metadata": {},
   "outputs": [],
   "source": [
    "gerar_df_estados(pd.read_csv(\"precos-combustiveis-2013-2024.csv\", sep=\";\"))"
   ]
  },
  {
   "cell_type": "code",
   "execution_count": null,
   "metadata": {},
   "outputs": [],
   "source": [
    "def gerar_media_mensal_estado_municipio(estado, municipio, arquivo_base):\n",
    "    df = pd.read_csv(arquivo_base, sep=\";\")\n",
    "    df_filtrado = df[(df[\"Estado - Sigla\"] == estado) & (df[\"Municipio\"] == municipio)]\n",
    "    df_filtrado[\"Data da Coleta\"] = pd.to_datetime(df_filtrado[\"Data da Coleta\"], format='%d/%m/%Y')\n",
    "    df_filtrado[\"Ano\"] = df_filtrado[\"Data da Coleta\"].dt.year\n",
    "    df_filtrado[\"Mes\"] = df_filtrado[\"Data da Coleta\"].dt.month\n",
    "    df_filtrado[\"Valor de Venda\"] = df_filtrado[\"Valor de Venda\"].str.replace(',', '.').astype(float)\n",
    "    df_media_mensal = df_filtrado.groupby([\"Ano\", \"Mes\", \"Produto\"], as_index=False)[\"Valor de Venda\"].mean()\n",
    "    nome_arquivo_saida = f\"media_{estado}_{municipio}_mes_a_mes.csv\"\n",
    "    df_media_mensal.to_csv(nome_arquivo_saida, sep=\";\", index=False)\n",
    "    print(f\"Arquivo {nome_arquivo_saida} gerado com sucesso!\")"
   ]
  },
  {
   "cell_type": "code",
   "execution_count": null,
   "metadata": {},
   "outputs": [
    {
     "name": "stdout",
     "output_type": "stream",
     "text": [
      "Arquivo media_PR_CASCAVEL_mes_a_mes.csv gerado com sucesso!\n"
     ]
    },
    {
     "name": "stderr",
     "output_type": "stream",
     "text": [
      "C:\\Users\\Pedro\\AppData\\Local\\Temp\\ipykernel_8620\\769203073.py:4: SettingWithCopyWarning: \n",
      "A value is trying to be set on a copy of a slice from a DataFrame.\n",
      "Try using .loc[row_indexer,col_indexer] = value instead\n",
      "\n",
      "See the caveats in the documentation: https://pandas.pydata.org/pandas-docs/stable/user_guide/indexing.html#returning-a-view-versus-a-copy\n",
      "  df_filtrado[\"Data da Coleta\"] = pd.to_datetime(df_filtrado[\"Data da Coleta\"], format='%d/%m/%Y')\n",
      "C:\\Users\\Pedro\\AppData\\Local\\Temp\\ipykernel_8620\\769203073.py:5: SettingWithCopyWarning: \n",
      "A value is trying to be set on a copy of a slice from a DataFrame.\n",
      "Try using .loc[row_indexer,col_indexer] = value instead\n",
      "\n",
      "See the caveats in the documentation: https://pandas.pydata.org/pandas-docs/stable/user_guide/indexing.html#returning-a-view-versus-a-copy\n",
      "  df_filtrado[\"Ano\"] = df_filtrado[\"Data da Coleta\"].dt.year\n",
      "C:\\Users\\Pedro\\AppData\\Local\\Temp\\ipykernel_8620\\769203073.py:6: SettingWithCopyWarning: \n",
      "A value is trying to be set on a copy of a slice from a DataFrame.\n",
      "Try using .loc[row_indexer,col_indexer] = value instead\n",
      "\n",
      "See the caveats in the documentation: https://pandas.pydata.org/pandas-docs/stable/user_guide/indexing.html#returning-a-view-versus-a-copy\n",
      "  df_filtrado[\"Mes\"] = df_filtrado[\"Data da Coleta\"].dt.month\n",
      "C:\\Users\\Pedro\\AppData\\Local\\Temp\\ipykernel_8620\\769203073.py:7: SettingWithCopyWarning: \n",
      "A value is trying to be set on a copy of a slice from a DataFrame.\n",
      "Try using .loc[row_indexer,col_indexer] = value instead\n",
      "\n",
      "See the caveats in the documentation: https://pandas.pydata.org/pandas-docs/stable/user_guide/indexing.html#returning-a-view-versus-a-copy\n",
      "  df_filtrado[\"Valor de Venda\"] = df_filtrado[\"Valor de Venda\"].str.replace(',', '.').astype(float)\n"
     ]
    }
   ],
   "source": [
    "gerar_media_mensal_estado_municipio(\"PR\", \"CASCAVEL\", \"precos-combustiveis-2013-2024.csv\")"
   ]
  },
  {
   "cell_type": "code",
   "execution_count": null,
   "metadata": {},
   "outputs": [],
   "source": [
    "df_all = pd.read_csv(\"precos-combustiveis-2013-2024.csv\", sep=\";\")"
   ]
  },
  {
   "cell_type": "code",
   "execution_count": null,
   "metadata": {},
   "outputs": [
    {
     "name": "stdout",
     "output_type": "stream",
     "text": [
      "<class 'pandas.core.frame.DataFrame'>\n",
      "RangeIndex: 10393358 entries, 0 to 10393357\n",
      "Data columns (total 5 columns):\n",
      " #   Column          Dtype \n",
      "---  ------          ----- \n",
      " 0   Estado - Sigla  object\n",
      " 1   Municipio       object\n",
      " 2   Produto         object\n",
      " 3   Data da Coleta  object\n",
      " 4   Valor de Venda  object\n",
      "dtypes: object(5)\n",
      "memory usage: 396.5+ MB\n",
      "10393358\n"
     ]
    }
   ],
   "source": [
    "df_all.info()\n",
    "print(len(df_all))"
   ]
  },
  {
   "cell_type": "code",
   "execution_count": 23,
   "metadata": {},
   "outputs": [],
   "source": [
    "\"\"\"\n",
    "\trecebe o DataFrame geral original\n",
    "\tcalcula a media de cada mes, para cada um dos estados brasileiros, gera um novo DataFrame apenas com as colunas [ano, mes, produto, valor de venda]\n",
    "    salva o DataFrame num novo arquivo csv\n",
    "\"\"\"\n",
    "\n",
    "\n",
    "def gerar_df_estados(df):\n",
    "    estados = df[\"Estado - Sigla\"].unique()\n",
    "\n",
    "    for estado in estados:\n",
    "        df_estado = df[df[\"Estado - Sigla\"] == estado]\n",
    "\n",
    "        df_estado[\"Data da Coleta\"] = pd.to_datetime(\n",
    "            df_estado[\"Data da Coleta\"], format=\"%d/%m/%Y\"\n",
    "        )\n",
    "\n",
    "        df_estado[\"Mes\"] = df_estado[\"Data da Coleta\"].dt.month\n",
    "        df_estado[\"Ano\"] = df_estado[\"Data da Coleta\"].dt.year\n",
    "\n",
    "        df_estado[\"Valor de Venda\"] = (\n",
    "            df_estado[\"Valor de Venda\"].str.replace(\",\", \".\").astype(float)\n",
    "        )\n",
    "\n",
    "        media_estado = df_estado.groupby([\"Ano\", \"Mes\", \"Produto\"], as_index=False)[\n",
    "            \"Valor de Venda\"\n",
    "        ].mean()\n",
    "\n",
    "        nome_arquivo = f\"media_{estado}_mes_a_mes.csv\"\n",
    "\n",
    "        salvar_dados(media_estado, nome_arquivo)"
   ]
  },
  {
   "cell_type": "code",
   "execution_count": null,
   "metadata": {},
   "outputs": [],
   "source": [
    "gerar_df_estados(pd.read_csv(\"precos-combustiveis-2013-2024.csv\", sep=\";\"))"
   ]
  },
  {
   "cell_type": "code",
   "execution_count": 14,
   "metadata": {},
   "outputs": [],
   "source": [
    "def gerar_media_mensal_estado_municipio(estado, municipio, arquivo_base):\n",
    "    df = pd.read_csv(arquivo_base, sep=\";\")\n",
    "    df_filtrado = df[(df[\"Estado - Sigla\"] == estado) & (df[\"Municipio\"] == municipio)]\n",
    "    df_filtrado[\"Data da Coleta\"] = pd.to_datetime(df_filtrado[\"Data da Coleta\"], format='%d/%m/%Y')\n",
    "    df_filtrado[\"Ano\"] = df_filtrado[\"Data da Coleta\"].dt.year\n",
    "    df_filtrado[\"Mes\"] = df_filtrado[\"Data da Coleta\"].dt.month\n",
    "    df_filtrado[\"Valor de Venda\"] = df_filtrado[\"Valor de Venda\"].str.replace(',', '.').astype(float)\n",
    "    df_media_mensal = df_filtrado.groupby([\"Ano\", \"Mes\", \"Produto\"], as_index=False)[\"Valor de Venda\"].mean()\n",
    "    nome_arquivo_saida = f\"media_{estado}_{municipio}_mes_a_mes.csv\"\n",
    "    df_media_mensal.to_csv(nome_arquivo_saida, sep=\";\", index=False)\n",
    "    print(f\"Arquivo {nome_arquivo_saida} gerado com sucesso!\")"
   ]
  },
  {
   "cell_type": "code",
   "execution_count": 15,
   "metadata": {},
   "outputs": [
    {
     "name": "stdout",
     "output_type": "stream",
     "text": [
      "Arquivo media_PR_CASCAVEL_mes_a_mes.csv gerado com sucesso!\n"
     ]
    },
    {
     "name": "stderr",
     "output_type": "stream",
     "text": [
      "C:\\Users\\Pedro\\AppData\\Local\\Temp\\ipykernel_8620\\769203073.py:4: SettingWithCopyWarning: \n",
      "A value is trying to be set on a copy of a slice from a DataFrame.\n",
      "Try using .loc[row_indexer,col_indexer] = value instead\n",
      "\n",
      "See the caveats in the documentation: https://pandas.pydata.org/pandas-docs/stable/user_guide/indexing.html#returning-a-view-versus-a-copy\n",
      "  df_filtrado[\"Data da Coleta\"] = pd.to_datetime(df_filtrado[\"Data da Coleta\"], format='%d/%m/%Y')\n",
      "C:\\Users\\Pedro\\AppData\\Local\\Temp\\ipykernel_8620\\769203073.py:5: SettingWithCopyWarning: \n",
      "A value is trying to be set on a copy of a slice from a DataFrame.\n",
      "Try using .loc[row_indexer,col_indexer] = value instead\n",
      "\n",
      "See the caveats in the documentation: https://pandas.pydata.org/pandas-docs/stable/user_guide/indexing.html#returning-a-view-versus-a-copy\n",
      "  df_filtrado[\"Ano\"] = df_filtrado[\"Data da Coleta\"].dt.year\n",
      "C:\\Users\\Pedro\\AppData\\Local\\Temp\\ipykernel_8620\\769203073.py:6: SettingWithCopyWarning: \n",
      "A value is trying to be set on a copy of a slice from a DataFrame.\n",
      "Try using .loc[row_indexer,col_indexer] = value instead\n",
      "\n",
      "See the caveats in the documentation: https://pandas.pydata.org/pandas-docs/stable/user_guide/indexing.html#returning-a-view-versus-a-copy\n",
      "  df_filtrado[\"Mes\"] = df_filtrado[\"Data da Coleta\"].dt.month\n",
      "C:\\Users\\Pedro\\AppData\\Local\\Temp\\ipykernel_8620\\769203073.py:7: SettingWithCopyWarning: \n",
      "A value is trying to be set on a copy of a slice from a DataFrame.\n",
      "Try using .loc[row_indexer,col_indexer] = value instead\n",
      "\n",
      "See the caveats in the documentation: https://pandas.pydata.org/pandas-docs/stable/user_guide/indexing.html#returning-a-view-versus-a-copy\n",
      "  df_filtrado[\"Valor de Venda\"] = df_filtrado[\"Valor de Venda\"].str.replace(',', '.').astype(float)\n"
     ]
    }
   ],
   "source": [
    "gerar_media_mensal_estado_municipio(\"PR\", \"CASCAVEL\", \"precos-combustiveis-2013-2024.csv\")"
   ]
  },
  {
   "cell_type": "code",
   "execution_count": 3,
   "metadata": {},
   "outputs": [],
   "source": [
    "df_all = pd.read_csv(\"precos-combustiveis-2013-2024.csv\", sep=\";\")"
   ]
  },
  {
   "cell_type": "code",
   "execution_count": 5,
   "metadata": {},
   "outputs": [
    {
     "name": "stdout",
     "output_type": "stream",
     "text": [
      "<class 'pandas.core.frame.DataFrame'>\n",
      "RangeIndex: 10393358 entries, 0 to 10393357\n",
      "Data columns (total 5 columns):\n",
      " #   Column          Dtype \n",
      "---  ------          ----- \n",
      " 0   Estado - Sigla  object\n",
      " 1   Municipio       object\n",
      " 2   Produto         object\n",
      " 3   Data da Coleta  object\n",
      " 4   Valor de Venda  object\n",
      "dtypes: object(5)\n",
      "memory usage: 396.5+ MB\n",
      "10393358\n"
     ]
    }
   ],
   "source": [
    "df_all.info()\n",
    "print(len(df_all))"
   ]
  },
  {
   "cell_type": "markdown",
   "metadata": {},
   "source": [
    "### A partir da base gerada originalmente, com todos os valores, gera as bases com as médias de valores mensais para cada estado"
   ]
  },
  {
   "cell_type": "code",
   "execution_count": null,
   "metadata": {},
   "outputs": [],
   "source": []
  }
 ],
 "metadata": {
  "kernelspec": {
   "display_name": "Python 3",
   "language": "python",
   "name": "python3"
  },
  "language_info": {
   "codemirror_mode": {
    "name": "ipython",
    "version": 3
   },
   "file_extension": ".py",
   "mimetype": "text/x-python",
   "name": "python",
   "nbconvert_exporter": "python",
   "pygments_lexer": "ipython3",
   "version": "3.12.4"
  }
 },
 "nbformat": 4,
 "nbformat_minor": 2
}
