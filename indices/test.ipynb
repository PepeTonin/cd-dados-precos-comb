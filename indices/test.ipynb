{
 "cells": [
  {
   "cell_type": "code",
   "execution_count": 1,
   "metadata": {},
   "outputs": [],
   "source": [
    "import pandas as pd"
   ]
  },
  {
   "cell_type": "code",
   "execution_count": 2,
   "metadata": {},
   "outputs": [
    {
     "name": "stdout",
     "output_type": "stream",
     "text": [
      "<class 'pandas.core.frame.DataFrame'>\n",
      "Index: 407 entries, 125 to 400\n",
      "Data columns (total 9 columns):\n",
      " #   Column                      Non-Null Count  Dtype  \n",
      "---  ------                      --------------  -----  \n",
      " 0   mes                         407 non-null    int64  \n",
      " 1   ano                         407 non-null    int64  \n",
      " 2   indice                      407 non-null    float64\n",
      " 3   variacao_mensal             406 non-null    float64\n",
      " 4   variacao_12_meses           395 non-null    float64\n",
      " 5   variacao_primeiro_decendio  407 non-null    float64\n",
      " 6   variacao_segundo_decendio   407 non-null    float64\n",
      " 7   variacao_acumulada_ano      406 non-null    float64\n",
      " 8   indice_fechamento_mensal    406 non-null    float64\n",
      "dtypes: float64(7), int64(2)\n",
      "memory usage: 31.8 KB\n",
      "None\n"
     ]
    }
   ],
   "source": [
    "df_igpm = pd.read_csv('igpm.csv')\n",
    "sorted_df_igpm = df_igpm.sort_values(by=['ano', 'mes'], ascending=False)\n",
    "print(sorted_df_igpm.info())\n",
    "print(sorted_df_igpm.head(5))\n",
    "print(sorted_df_igpm.tail(5))"
   ]
  },
  {
   "cell_type": "code",
   "execution_count": null,
   "metadata": {},
   "outputs": [],
   "source": [
    "df_ipca = pd.read_csv('ipca.csv')\n",
    "sorted_df_ipca = df_ipca.sort_values(by=['ano', 'mes'], ascending=False)\n",
    "print(sorted_df_ipca.info())\n",
    "print(sorted_df_ipca.head(5))\n",
    "print(sorted_df_ipca.tail(5))"
   ]
  }
 ],
 "metadata": {
  "kernelspec": {
   "display_name": "Python 3",
   "language": "python",
   "name": "python3"
  },
  "language_info": {
   "codemirror_mode": {
    "name": "ipython",
    "version": 3
   },
   "file_extension": ".py",
   "mimetype": "text/x-python",
   "name": "python",
   "nbconvert_exporter": "python",
   "pygments_lexer": "ipython3",
   "version": "3.12.4"
  }
 },
 "nbformat": 4,
 "nbformat_minor": 2
}
